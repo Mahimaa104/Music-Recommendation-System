{
 "cells": [
  {
   "cell_type": "code",
   "execution_count": 1,
   "id": "0c90fc11",
   "metadata": {},
   "outputs": [],
   "source": [
    "import pandas as pd\n",
    "import numpy as np\n",
    "import matplotlib.pyplot as plt\n",
    "import seaborn as sns \n",
    "import warnings\n",
    "warnings.filterwarnings(\"ignore\", category=FutureWarning)"
   ]
  },
  {
   "cell_type": "code",
   "execution_count": 2,
   "id": "fef7cf7d",
   "metadata": {},
   "outputs": [],
   "source": [
    "data_song = pd.read_csv(\"/Users/bharadwaj_kota/Desktop/song_data.csv\")\n",
    "data_user = pd.read_csv(\"/Users/bharadwaj_kota/Desktop/triplets_file.csv\")"
   ]
  },
  {
   "cell_type": "code",
   "execution_count": 3,
   "id": "336b76e4",
   "metadata": {},
   "outputs": [
    {
     "name": "stdout",
     "output_type": "stream",
     "text": [
      "                   song_id                                title  \\\n",
      "0       SOQMMHC12AB0180CB8                         Silent Night   \n",
      "1       SOVFVAK12A8C1350D9                          Tanssi vaan   \n",
      "2       SOGTUKN12AB017F4F1                    No One Could Ever   \n",
      "3       SOBNYVR12A8C13558C                        Si Vos Querés   \n",
      "4       SOHSBXH12A8C13B0DF                     Tangle Of Aspens   \n",
      "...                    ...                                  ...   \n",
      "999995  SOTXAME12AB018F136                      O Samba Da Vida   \n",
      "999996  SOXQYIQ12A8C137FBB                         Jago Chhadeo   \n",
      "999997  SOHODZI12A8C137BB3                              Novemba   \n",
      "999998  SOLXGOR12A81C21EB7                              Faraday   \n",
      "999999  SOWXJXQ12AB0189F43  Fernweh feat. Sektion Kuchikäschtli   \n",
      "\n",
      "                                     release       artist_name  year  \n",
      "0                      Monster Ballads X-Mas  Faster Pussy cat  2003  \n",
      "1                                Karkuteillä  Karkkiautomaatti  1995  \n",
      "2                                     Butter    Hudson Mohawke  2006  \n",
      "3                                    De Culo       Yerba Brava  2003  \n",
      "4       Rene Ablaze Presents Winter Sessions        Der Mystic     0  \n",
      "...                                      ...               ...   ...  \n",
      "999995                          Pacha V.I.P.      Kiko Navarro     0  \n",
      "999996              Naale Baba Lassi Pee Gya     Kuldeep Manak     0  \n",
      "999997       Dub_Connected: electronic music    Gabriel Le Mar     0  \n",
      "999998          The Trance Collection Vol. 2             Elude     0  \n",
      "999999                            So Oder So             Texta  2004  \n",
      "\n",
      "[1000000 rows x 5 columns]\n"
     ]
    }
   ],
   "source": [
    "data_song = pd.DataFrame(data_song)\n",
    "print(data_song)"
   ]
  },
  {
   "cell_type": "code",
   "execution_count": 4,
   "id": "b08c6a3d",
   "metadata": {},
   "outputs": [],
   "source": [
    "data_song = data_song.drop_duplicates(['song_id'])"
   ]
  },
  {
   "cell_type": "code",
   "execution_count": 5,
   "id": "2b36d308",
   "metadata": {},
   "outputs": [
    {
     "data": {
      "text/html": [
       "<div>\n",
       "<style scoped>\n",
       "    .dataframe tbody tr th:only-of-type {\n",
       "        vertical-align: middle;\n",
       "    }\n",
       "\n",
       "    .dataframe tbody tr th {\n",
       "        vertical-align: top;\n",
       "    }\n",
       "\n",
       "    .dataframe thead th {\n",
       "        text-align: right;\n",
       "    }\n",
       "</style>\n",
       "<table border=\"1\" class=\"dataframe\">\n",
       "  <thead>\n",
       "    <tr style=\"text-align: right;\">\n",
       "      <th></th>\n",
       "      <th>song_id</th>\n",
       "      <th>title</th>\n",
       "      <th>release</th>\n",
       "      <th>artist_name</th>\n",
       "      <th>year</th>\n",
       "    </tr>\n",
       "  </thead>\n",
       "  <tbody>\n",
       "    <tr>\n",
       "      <th>0</th>\n",
       "      <td>SOQMMHC12AB0180CB8</td>\n",
       "      <td>Silent Night</td>\n",
       "      <td>Monster Ballads X-Mas</td>\n",
       "      <td>Faster Pussy cat</td>\n",
       "      <td>2003</td>\n",
       "    </tr>\n",
       "    <tr>\n",
       "      <th>1</th>\n",
       "      <td>SOVFVAK12A8C1350D9</td>\n",
       "      <td>Tanssi vaan</td>\n",
       "      <td>Karkuteillä</td>\n",
       "      <td>Karkkiautomaatti</td>\n",
       "      <td>1995</td>\n",
       "    </tr>\n",
       "    <tr>\n",
       "      <th>2</th>\n",
       "      <td>SOGTUKN12AB017F4F1</td>\n",
       "      <td>No One Could Ever</td>\n",
       "      <td>Butter</td>\n",
       "      <td>Hudson Mohawke</td>\n",
       "      <td>2006</td>\n",
       "    </tr>\n",
       "    <tr>\n",
       "      <th>3</th>\n",
       "      <td>SOBNYVR12A8C13558C</td>\n",
       "      <td>Si Vos Querés</td>\n",
       "      <td>De Culo</td>\n",
       "      <td>Yerba Brava</td>\n",
       "      <td>2003</td>\n",
       "    </tr>\n",
       "    <tr>\n",
       "      <th>4</th>\n",
       "      <td>SOHSBXH12A8C13B0DF</td>\n",
       "      <td>Tangle Of Aspens</td>\n",
       "      <td>Rene Ablaze Presents Winter Sessions</td>\n",
       "      <td>Der Mystic</td>\n",
       "      <td>0</td>\n",
       "    </tr>\n",
       "    <tr>\n",
       "      <th>...</th>\n",
       "      <td>...</td>\n",
       "      <td>...</td>\n",
       "      <td>...</td>\n",
       "      <td>...</td>\n",
       "      <td>...</td>\n",
       "    </tr>\n",
       "    <tr>\n",
       "      <th>999995</th>\n",
       "      <td>SOTXAME12AB018F136</td>\n",
       "      <td>O Samba Da Vida</td>\n",
       "      <td>Pacha V.I.P.</td>\n",
       "      <td>Kiko Navarro</td>\n",
       "      <td>0</td>\n",
       "    </tr>\n",
       "    <tr>\n",
       "      <th>999996</th>\n",
       "      <td>SOXQYIQ12A8C137FBB</td>\n",
       "      <td>Jago Chhadeo</td>\n",
       "      <td>Naale Baba Lassi Pee Gya</td>\n",
       "      <td>Kuldeep Manak</td>\n",
       "      <td>0</td>\n",
       "    </tr>\n",
       "    <tr>\n",
       "      <th>999997</th>\n",
       "      <td>SOHODZI12A8C137BB3</td>\n",
       "      <td>Novemba</td>\n",
       "      <td>Dub_Connected: electronic music</td>\n",
       "      <td>Gabriel Le Mar</td>\n",
       "      <td>0</td>\n",
       "    </tr>\n",
       "    <tr>\n",
       "      <th>999998</th>\n",
       "      <td>SOLXGOR12A81C21EB7</td>\n",
       "      <td>Faraday</td>\n",
       "      <td>The Trance Collection Vol. 2</td>\n",
       "      <td>Elude</td>\n",
       "      <td>0</td>\n",
       "    </tr>\n",
       "    <tr>\n",
       "      <th>999999</th>\n",
       "      <td>SOWXJXQ12AB0189F43</td>\n",
       "      <td>Fernweh feat. Sektion Kuchikäschtli</td>\n",
       "      <td>So Oder So</td>\n",
       "      <td>Texta</td>\n",
       "      <td>2004</td>\n",
       "    </tr>\n",
       "  </tbody>\n",
       "</table>\n",
       "<p>999056 rows × 5 columns</p>\n",
       "</div>"
      ],
      "text/plain": [
       "                   song_id                                title  \\\n",
       "0       SOQMMHC12AB0180CB8                         Silent Night   \n",
       "1       SOVFVAK12A8C1350D9                          Tanssi vaan   \n",
       "2       SOGTUKN12AB017F4F1                    No One Could Ever   \n",
       "3       SOBNYVR12A8C13558C                        Si Vos Querés   \n",
       "4       SOHSBXH12A8C13B0DF                     Tangle Of Aspens   \n",
       "...                    ...                                  ...   \n",
       "999995  SOTXAME12AB018F136                      O Samba Da Vida   \n",
       "999996  SOXQYIQ12A8C137FBB                         Jago Chhadeo   \n",
       "999997  SOHODZI12A8C137BB3                              Novemba   \n",
       "999998  SOLXGOR12A81C21EB7                              Faraday   \n",
       "999999  SOWXJXQ12AB0189F43  Fernweh feat. Sektion Kuchikäschtli   \n",
       "\n",
       "                                     release       artist_name  year  \n",
       "0                      Monster Ballads X-Mas  Faster Pussy cat  2003  \n",
       "1                                Karkuteillä  Karkkiautomaatti  1995  \n",
       "2                                     Butter    Hudson Mohawke  2006  \n",
       "3                                    De Culo       Yerba Brava  2003  \n",
       "4       Rene Ablaze Presents Winter Sessions        Der Mystic     0  \n",
       "...                                      ...               ...   ...  \n",
       "999995                          Pacha V.I.P.      Kiko Navarro     0  \n",
       "999996              Naale Baba Lassi Pee Gya     Kuldeep Manak     0  \n",
       "999997       Dub_Connected: electronic music    Gabriel Le Mar     0  \n",
       "999998          The Trance Collection Vol. 2             Elude     0  \n",
       "999999                            So Oder So             Texta  2004  \n",
       "\n",
       "[999056 rows x 5 columns]"
      ]
     },
     "execution_count": 5,
     "metadata": {},
     "output_type": "execute_result"
    }
   ],
   "source": [
    "data_song"
   ]
  },
  {
   "cell_type": "code",
   "execution_count": 6,
   "id": "b08c1c33",
   "metadata": {},
   "outputs": [
    {
     "name": "stdout",
     "output_type": "stream",
     "text": [
      "                   song_id                                title  \\\n",
      "0       SOQMMHC12AB0180CB8                         Silent Night   \n",
      "1       SOVFVAK12A8C1350D9                          Tanssi vaan   \n",
      "2       SOGTUKN12AB017F4F1                    No One Could Ever   \n",
      "3       SOBNYVR12A8C13558C                        Si Vos Querés   \n",
      "4       SOHSBXH12A8C13B0DF                     Tangle Of Aspens   \n",
      "...                    ...                                  ...   \n",
      "999995  SOTXAME12AB018F136                      O Samba Da Vida   \n",
      "999996  SOXQYIQ12A8C137FBB                         Jago Chhadeo   \n",
      "999997  SOHODZI12A8C137BB3                              Novemba   \n",
      "999998  SOLXGOR12A81C21EB7                              Faraday   \n",
      "999999  SOWXJXQ12AB0189F43  Fernweh feat. Sektion Kuchikäschtli   \n",
      "\n",
      "                                     release       artist_name  \n",
      "0                      Monster Ballads X-Mas  Faster Pussy cat  \n",
      "1                                Karkuteillä  Karkkiautomaatti  \n",
      "2                                     Butter    Hudson Mohawke  \n",
      "3                                    De Culo       Yerba Brava  \n",
      "4       Rene Ablaze Presents Winter Sessions        Der Mystic  \n",
      "...                                      ...               ...  \n",
      "999995                          Pacha V.I.P.      Kiko Navarro  \n",
      "999996              Naale Baba Lassi Pee Gya     Kuldeep Manak  \n",
      "999997       Dub_Connected: electronic music    Gabriel Le Mar  \n",
      "999998          The Trance Collection Vol. 2             Elude  \n",
      "999999                            So Oder So             Texta  \n",
      "\n",
      "[999056 rows x 4 columns]\n"
     ]
    }
   ],
   "source": [
    "data_song = data_song.drop('year',axis=1)\n",
    "print(data_song)"
   ]
  },
  {
   "cell_type": "code",
   "execution_count": 7,
   "id": "9ec7b2b0",
   "metadata": {},
   "outputs": [
    {
     "data": {
      "text/plain": [
       "(2000000, 3)"
      ]
     },
     "execution_count": 7,
     "metadata": {},
     "output_type": "execute_result"
    }
   ],
   "source": [
    "data_user.shape"
   ]
  },
  {
   "cell_type": "code",
   "execution_count": 8,
   "id": "db37de83",
   "metadata": {},
   "outputs": [
    {
     "name": "stdout",
     "output_type": "stream",
     "text": [
      "                                          user_id             song_id  \\\n",
      "0        b80344d063b5ccb3212f76538f3d9e43d87dca9e  SOAKIMP12A8C130995   \n",
      "1        b80344d063b5ccb3212f76538f3d9e43d87dca9e  SOBBMDR12A8C13253B   \n",
      "2        b80344d063b5ccb3212f76538f3d9e43d87dca9e  SOBXHDL12A81C204C0   \n",
      "3        b80344d063b5ccb3212f76538f3d9e43d87dca9e  SOBYHAJ12A6701BF1D   \n",
      "4        b80344d063b5ccb3212f76538f3d9e43d87dca9e  SODACBL12A8C13C273   \n",
      "...                                           ...                 ...   \n",
      "1999995  d8bfd4ec88f0f3773a9e022e3c1a0f1d3b7b6a92  SOJEYPO12AAA8C6B0E   \n",
      "1999996  d8bfd4ec88f0f3773a9e022e3c1a0f1d3b7b6a92  SOJJYDE12AF729FC16   \n",
      "1999997  d8bfd4ec88f0f3773a9e022e3c1a0f1d3b7b6a92  SOJKQSF12A6D4F5EE9   \n",
      "1999998  d8bfd4ec88f0f3773a9e022e3c1a0f1d3b7b6a92  SOJUXGA12AC961885C   \n",
      "1999999  d8bfd4ec88f0f3773a9e022e3c1a0f1d3b7b6a92  SOJYOLS12A8C13C06F   \n",
      "\n",
      "         listen_count  \n",
      "0                   1  \n",
      "1                   2  \n",
      "2                   1  \n",
      "3                   1  \n",
      "4                   1  \n",
      "...               ...  \n",
      "1999995             2  \n",
      "1999996             4  \n",
      "1999997             3  \n",
      "1999998             1  \n",
      "1999999             1  \n",
      "\n",
      "[2000000 rows x 3 columns]\n"
     ]
    }
   ],
   "source": [
    "# data_user = data_user[:1000000]\n",
    "print(data_user)"
   ]
  },
  {
   "cell_type": "code",
   "execution_count": 9,
   "id": "1050af79",
   "metadata": {},
   "outputs": [
    {
     "name": "stdout",
     "output_type": "stream",
     "text": [
      "                                          user_id             song_id  \\\n",
      "0        b80344d063b5ccb3212f76538f3d9e43d87dca9e  SOAKIMP12A8C130995   \n",
      "1        b80344d063b5ccb3212f76538f3d9e43d87dca9e  SOBBMDR12A8C13253B   \n",
      "2        b80344d063b5ccb3212f76538f3d9e43d87dca9e  SOBXHDL12A81C204C0   \n",
      "3        b80344d063b5ccb3212f76538f3d9e43d87dca9e  SOBYHAJ12A6701BF1D   \n",
      "4        b80344d063b5ccb3212f76538f3d9e43d87dca9e  SODACBL12A8C13C273   \n",
      "...                                           ...                 ...   \n",
      "1999995  d8bfd4ec88f0f3773a9e022e3c1a0f1d3b7b6a92  SOJEYPO12AAA8C6B0E   \n",
      "1999996  d8bfd4ec88f0f3773a9e022e3c1a0f1d3b7b6a92  SOJJYDE12AF729FC16   \n",
      "1999997  d8bfd4ec88f0f3773a9e022e3c1a0f1d3b7b6a92  SOJKQSF12A6D4F5EE9   \n",
      "1999998  d8bfd4ec88f0f3773a9e022e3c1a0f1d3b7b6a92  SOJUXGA12AC961885C   \n",
      "1999999  d8bfd4ec88f0f3773a9e022e3c1a0f1d3b7b6a92  SOJYOLS12A8C13C06F   \n",
      "\n",
      "         listen_count                           title  \\\n",
      "0                   1                        The Cove   \n",
      "1                   2                 Entre Dos Aguas   \n",
      "2                   1                        Stronger   \n",
      "3                   1                  Constellations   \n",
      "4                   1                    Learn To Fly   \n",
      "...               ...                             ...   \n",
      "1999995             2       Ignorance (Album Version)   \n",
      "1999996             4          Two Is Better Than One   \n",
      "1999997             3  What I've Done (Album Version)   \n",
      "1999998             1                              Up   \n",
      "1999999             1      Soil_ Soil (Album Version)   \n",
      "\n",
      "                               release                             artist_name  \n",
      "0                   Thicker Than Water                            Jack Johnson  \n",
      "1                  Flamenco Para Niños                           Paco De Lucia  \n",
      "2                           Graduation                              Kanye West  \n",
      "3                    In Between Dreams                            Jack Johnson  \n",
      "4        There Is Nothing Left To Lose                            Foo Fighters  \n",
      "...                                ...                                     ...  \n",
      "1999995                      Ignorance                                Paramore  \n",
      "1999996                     Love Drunk  Boys Like Girls featuring Taylor Swift  \n",
      "1999997                 What I've Done                             Linkin Park  \n",
      "1999998                      My Worlds                           Justin Bieber  \n",
      "1999999                        The Con                          Tegan And Sara  \n",
      "\n",
      "[2000000 rows x 6 columns]\n"
     ]
    }
   ],
   "source": [
    "data_main = pd.merge(data_user,data_song,on=\"song_id\", how=\"left\")\n",
    "print(data_main)"
   ]
  },
  {
   "cell_type": "code",
   "execution_count": 10,
   "id": "37a6a029",
   "metadata": {},
   "outputs": [
    {
     "name": "stdout",
     "output_type": "stream",
     "text": [
      "(2000000, 6)\n"
     ]
    }
   ],
   "source": [
    "print(data_main.shape)"
   ]
  },
  {
   "cell_type": "code",
   "execution_count": 11,
   "id": "a0b6c648",
   "metadata": {},
   "outputs": [
    {
     "data": {
      "text/plain": [
       "user_id         object\n",
       "song_id         object\n",
       "listen_count     int64\n",
       "title           object\n",
       "release         object\n",
       "artist_name     object\n",
       "dtype: object"
      ]
     },
     "execution_count": 11,
     "metadata": {},
     "output_type": "execute_result"
    }
   ],
   "source": [
    "data_main.dtypes"
   ]
  },
  {
   "cell_type": "code",
   "execution_count": 12,
   "id": "517d4e83",
   "metadata": {},
   "outputs": [
    {
     "data": {
      "text/html": [
       "<div>\n",
       "<style scoped>\n",
       "    .dataframe tbody tr th:only-of-type {\n",
       "        vertical-align: middle;\n",
       "    }\n",
       "\n",
       "    .dataframe tbody tr th {\n",
       "        vertical-align: top;\n",
       "    }\n",
       "\n",
       "    .dataframe thead th {\n",
       "        text-align: right;\n",
       "    }\n",
       "</style>\n",
       "<table border=\"1\" class=\"dataframe\">\n",
       "  <thead>\n",
       "    <tr style=\"text-align: right;\">\n",
       "      <th></th>\n",
       "      <th>listen_count</th>\n",
       "    </tr>\n",
       "  </thead>\n",
       "  <tbody>\n",
       "    <tr>\n",
       "      <th>count</th>\n",
       "      <td>2.000000e+06</td>\n",
       "    </tr>\n",
       "    <tr>\n",
       "      <th>mean</th>\n",
       "      <td>3.045485e+00</td>\n",
       "    </tr>\n",
       "    <tr>\n",
       "      <th>std</th>\n",
       "      <td>6.579720e+00</td>\n",
       "    </tr>\n",
       "    <tr>\n",
       "      <th>min</th>\n",
       "      <td>1.000000e+00</td>\n",
       "    </tr>\n",
       "    <tr>\n",
       "      <th>25%</th>\n",
       "      <td>1.000000e+00</td>\n",
       "    </tr>\n",
       "    <tr>\n",
       "      <th>50%</th>\n",
       "      <td>1.000000e+00</td>\n",
       "    </tr>\n",
       "    <tr>\n",
       "      <th>75%</th>\n",
       "      <td>3.000000e+00</td>\n",
       "    </tr>\n",
       "    <tr>\n",
       "      <th>max</th>\n",
       "      <td>2.213000e+03</td>\n",
       "    </tr>\n",
       "  </tbody>\n",
       "</table>\n",
       "</div>"
      ],
      "text/plain": [
       "       listen_count\n",
       "count  2.000000e+06\n",
       "mean   3.045485e+00\n",
       "std    6.579720e+00\n",
       "min    1.000000e+00\n",
       "25%    1.000000e+00\n",
       "50%    1.000000e+00\n",
       "75%    3.000000e+00\n",
       "max    2.213000e+03"
      ]
     },
     "execution_count": 12,
     "metadata": {},
     "output_type": "execute_result"
    }
   ],
   "source": [
    "data_main.describe()"
   ]
  },
  {
   "cell_type": "code",
   "execution_count": 13,
   "id": "bb2986c3",
   "metadata": {},
   "outputs": [
    {
     "data": {
      "text/html": [
       "<div>\n",
       "<style scoped>\n",
       "    .dataframe tbody tr th:only-of-type {\n",
       "        vertical-align: middle;\n",
       "    }\n",
       "\n",
       "    .dataframe tbody tr th {\n",
       "        vertical-align: top;\n",
       "    }\n",
       "\n",
       "    .dataframe thead th {\n",
       "        text-align: right;\n",
       "    }\n",
       "</style>\n",
       "<table border=\"1\" class=\"dataframe\">\n",
       "  <thead>\n",
       "    <tr style=\"text-align: right;\">\n",
       "      <th></th>\n",
       "      <th>user_id</th>\n",
       "      <th>song_id</th>\n",
       "      <th>listen_count</th>\n",
       "      <th>title</th>\n",
       "      <th>release</th>\n",
       "      <th>artist_name</th>\n",
       "    </tr>\n",
       "  </thead>\n",
       "  <tbody>\n",
       "    <tr>\n",
       "      <th>0</th>\n",
       "      <td>b80344d063b5ccb3212f76538f3d9e43d87dca9e</td>\n",
       "      <td>SOAKIMP12A8C130995</td>\n",
       "      <td>1</td>\n",
       "      <td>The Cove</td>\n",
       "      <td>Thicker Than Water</td>\n",
       "      <td>Jack Johnson</td>\n",
       "    </tr>\n",
       "    <tr>\n",
       "      <th>1</th>\n",
       "      <td>b80344d063b5ccb3212f76538f3d9e43d87dca9e</td>\n",
       "      <td>SOBBMDR12A8C13253B</td>\n",
       "      <td>2</td>\n",
       "      <td>Entre Dos Aguas</td>\n",
       "      <td>Flamenco Para Niños</td>\n",
       "      <td>Paco De Lucia</td>\n",
       "    </tr>\n",
       "    <tr>\n",
       "      <th>2</th>\n",
       "      <td>b80344d063b5ccb3212f76538f3d9e43d87dca9e</td>\n",
       "      <td>SOBXHDL12A81C204C0</td>\n",
       "      <td>1</td>\n",
       "      <td>Stronger</td>\n",
       "      <td>Graduation</td>\n",
       "      <td>Kanye West</td>\n",
       "    </tr>\n",
       "    <tr>\n",
       "      <th>3</th>\n",
       "      <td>b80344d063b5ccb3212f76538f3d9e43d87dca9e</td>\n",
       "      <td>SOBYHAJ12A6701BF1D</td>\n",
       "      <td>1</td>\n",
       "      <td>Constellations</td>\n",
       "      <td>In Between Dreams</td>\n",
       "      <td>Jack Johnson</td>\n",
       "    </tr>\n",
       "    <tr>\n",
       "      <th>4</th>\n",
       "      <td>b80344d063b5ccb3212f76538f3d9e43d87dca9e</td>\n",
       "      <td>SODACBL12A8C13C273</td>\n",
       "      <td>1</td>\n",
       "      <td>Learn To Fly</td>\n",
       "      <td>There Is Nothing Left To Lose</td>\n",
       "      <td>Foo Fighters</td>\n",
       "    </tr>\n",
       "  </tbody>\n",
       "</table>\n",
       "</div>"
      ],
      "text/plain": [
       "                                    user_id             song_id  listen_count  \\\n",
       "0  b80344d063b5ccb3212f76538f3d9e43d87dca9e  SOAKIMP12A8C130995             1   \n",
       "1  b80344d063b5ccb3212f76538f3d9e43d87dca9e  SOBBMDR12A8C13253B             2   \n",
       "2  b80344d063b5ccb3212f76538f3d9e43d87dca9e  SOBXHDL12A81C204C0             1   \n",
       "3  b80344d063b5ccb3212f76538f3d9e43d87dca9e  SOBYHAJ12A6701BF1D             1   \n",
       "4  b80344d063b5ccb3212f76538f3d9e43d87dca9e  SODACBL12A8C13C273             1   \n",
       "\n",
       "             title                        release    artist_name  \n",
       "0         The Cove             Thicker Than Water   Jack Johnson  \n",
       "1  Entre Dos Aguas            Flamenco Para Niños  Paco De Lucia  \n",
       "2         Stronger                     Graduation     Kanye West  \n",
       "3   Constellations              In Between Dreams   Jack Johnson  \n",
       "4     Learn To Fly  There Is Nothing Left To Lose   Foo Fighters  "
      ]
     },
     "execution_count": 13,
     "metadata": {},
     "output_type": "execute_result"
    }
   ],
   "source": [
    "data_main.head()"
   ]
  },
  {
   "cell_type": "code",
   "execution_count": 14,
   "id": "f6014061",
   "metadata": {},
   "outputs": [
    {
     "data": {
      "text/html": [
       "<div>\n",
       "<style scoped>\n",
       "    .dataframe tbody tr th:only-of-type {\n",
       "        vertical-align: middle;\n",
       "    }\n",
       "\n",
       "    .dataframe tbody tr th {\n",
       "        vertical-align: top;\n",
       "    }\n",
       "\n",
       "    .dataframe thead th {\n",
       "        text-align: right;\n",
       "    }\n",
       "</style>\n",
       "<table border=\"1\" class=\"dataframe\">\n",
       "  <thead>\n",
       "    <tr style=\"text-align: right;\">\n",
       "      <th></th>\n",
       "      <th>user_id</th>\n",
       "      <th>song_id</th>\n",
       "      <th>listen_count</th>\n",
       "      <th>title</th>\n",
       "      <th>release</th>\n",
       "      <th>artist_name</th>\n",
       "    </tr>\n",
       "  </thead>\n",
       "  <tbody>\n",
       "    <tr>\n",
       "      <th>0</th>\n",
       "      <td>b80344d063b5ccb3212f76538f3d9e43d87dca9e</td>\n",
       "      <td>SOAKIMP12A8C130995</td>\n",
       "      <td>1</td>\n",
       "      <td>The Cove</td>\n",
       "      <td>Thicker Than Water</td>\n",
       "      <td>Jack Johnson</td>\n",
       "    </tr>\n",
       "    <tr>\n",
       "      <th>1</th>\n",
       "      <td>b80344d063b5ccb3212f76538f3d9e43d87dca9e</td>\n",
       "      <td>SOBBMDR12A8C13253B</td>\n",
       "      <td>2</td>\n",
       "      <td>Entre Dos Aguas</td>\n",
       "      <td>Flamenco Para Niños</td>\n",
       "      <td>Paco De Lucia</td>\n",
       "    </tr>\n",
       "    <tr>\n",
       "      <th>2</th>\n",
       "      <td>b80344d063b5ccb3212f76538f3d9e43d87dca9e</td>\n",
       "      <td>SOBXHDL12A81C204C0</td>\n",
       "      <td>1</td>\n",
       "      <td>Stronger</td>\n",
       "      <td>Graduation</td>\n",
       "      <td>Kanye West</td>\n",
       "    </tr>\n",
       "    <tr>\n",
       "      <th>3</th>\n",
       "      <td>b80344d063b5ccb3212f76538f3d9e43d87dca9e</td>\n",
       "      <td>SOBYHAJ12A6701BF1D</td>\n",
       "      <td>1</td>\n",
       "      <td>Constellations</td>\n",
       "      <td>In Between Dreams</td>\n",
       "      <td>Jack Johnson</td>\n",
       "    </tr>\n",
       "    <tr>\n",
       "      <th>4</th>\n",
       "      <td>b80344d063b5ccb3212f76538f3d9e43d87dca9e</td>\n",
       "      <td>SODACBL12A8C13C273</td>\n",
       "      <td>1</td>\n",
       "      <td>Learn To Fly</td>\n",
       "      <td>There Is Nothing Left To Lose</td>\n",
       "      <td>Foo Fighters</td>\n",
       "    </tr>\n",
       "    <tr>\n",
       "      <th>...</th>\n",
       "      <td>...</td>\n",
       "      <td>...</td>\n",
       "      <td>...</td>\n",
       "      <td>...</td>\n",
       "      <td>...</td>\n",
       "      <td>...</td>\n",
       "    </tr>\n",
       "    <tr>\n",
       "      <th>1999995</th>\n",
       "      <td>d8bfd4ec88f0f3773a9e022e3c1a0f1d3b7b6a92</td>\n",
       "      <td>SOJEYPO12AAA8C6B0E</td>\n",
       "      <td>2</td>\n",
       "      <td>Ignorance (Album Version)</td>\n",
       "      <td>Ignorance</td>\n",
       "      <td>Paramore</td>\n",
       "    </tr>\n",
       "    <tr>\n",
       "      <th>1999996</th>\n",
       "      <td>d8bfd4ec88f0f3773a9e022e3c1a0f1d3b7b6a92</td>\n",
       "      <td>SOJJYDE12AF729FC16</td>\n",
       "      <td>4</td>\n",
       "      <td>Two Is Better Than One</td>\n",
       "      <td>Love Drunk</td>\n",
       "      <td>Boys Like Girls featuring Taylor Swift</td>\n",
       "    </tr>\n",
       "    <tr>\n",
       "      <th>1999997</th>\n",
       "      <td>d8bfd4ec88f0f3773a9e022e3c1a0f1d3b7b6a92</td>\n",
       "      <td>SOJKQSF12A6D4F5EE9</td>\n",
       "      <td>3</td>\n",
       "      <td>What I've Done (Album Version)</td>\n",
       "      <td>What I've Done</td>\n",
       "      <td>Linkin Park</td>\n",
       "    </tr>\n",
       "    <tr>\n",
       "      <th>1999998</th>\n",
       "      <td>d8bfd4ec88f0f3773a9e022e3c1a0f1d3b7b6a92</td>\n",
       "      <td>SOJUXGA12AC961885C</td>\n",
       "      <td>1</td>\n",
       "      <td>Up</td>\n",
       "      <td>My Worlds</td>\n",
       "      <td>Justin Bieber</td>\n",
       "    </tr>\n",
       "    <tr>\n",
       "      <th>1999999</th>\n",
       "      <td>d8bfd4ec88f0f3773a9e022e3c1a0f1d3b7b6a92</td>\n",
       "      <td>SOJYOLS12A8C13C06F</td>\n",
       "      <td>1</td>\n",
       "      <td>Soil_ Soil (Album Version)</td>\n",
       "      <td>The Con</td>\n",
       "      <td>Tegan And Sara</td>\n",
       "    </tr>\n",
       "  </tbody>\n",
       "</table>\n",
       "<p>2000000 rows × 6 columns</p>\n",
       "</div>"
      ],
      "text/plain": [
       "                                          user_id             song_id  \\\n",
       "0        b80344d063b5ccb3212f76538f3d9e43d87dca9e  SOAKIMP12A8C130995   \n",
       "1        b80344d063b5ccb3212f76538f3d9e43d87dca9e  SOBBMDR12A8C13253B   \n",
       "2        b80344d063b5ccb3212f76538f3d9e43d87dca9e  SOBXHDL12A81C204C0   \n",
       "3        b80344d063b5ccb3212f76538f3d9e43d87dca9e  SOBYHAJ12A6701BF1D   \n",
       "4        b80344d063b5ccb3212f76538f3d9e43d87dca9e  SODACBL12A8C13C273   \n",
       "...                                           ...                 ...   \n",
       "1999995  d8bfd4ec88f0f3773a9e022e3c1a0f1d3b7b6a92  SOJEYPO12AAA8C6B0E   \n",
       "1999996  d8bfd4ec88f0f3773a9e022e3c1a0f1d3b7b6a92  SOJJYDE12AF729FC16   \n",
       "1999997  d8bfd4ec88f0f3773a9e022e3c1a0f1d3b7b6a92  SOJKQSF12A6D4F5EE9   \n",
       "1999998  d8bfd4ec88f0f3773a9e022e3c1a0f1d3b7b6a92  SOJUXGA12AC961885C   \n",
       "1999999  d8bfd4ec88f0f3773a9e022e3c1a0f1d3b7b6a92  SOJYOLS12A8C13C06F   \n",
       "\n",
       "         listen_count                           title  \\\n",
       "0                   1                        The Cove   \n",
       "1                   2                 Entre Dos Aguas   \n",
       "2                   1                        Stronger   \n",
       "3                   1                  Constellations   \n",
       "4                   1                    Learn To Fly   \n",
       "...               ...                             ...   \n",
       "1999995             2       Ignorance (Album Version)   \n",
       "1999996             4          Two Is Better Than One   \n",
       "1999997             3  What I've Done (Album Version)   \n",
       "1999998             1                              Up   \n",
       "1999999             1      Soil_ Soil (Album Version)   \n",
       "\n",
       "                               release                             artist_name  \n",
       "0                   Thicker Than Water                            Jack Johnson  \n",
       "1                  Flamenco Para Niños                           Paco De Lucia  \n",
       "2                           Graduation                              Kanye West  \n",
       "3                    In Between Dreams                            Jack Johnson  \n",
       "4        There Is Nothing Left To Lose                            Foo Fighters  \n",
       "...                                ...                                     ...  \n",
       "1999995                      Ignorance                                Paramore  \n",
       "1999996                     Love Drunk  Boys Like Girls featuring Taylor Swift  \n",
       "1999997                 What I've Done                             Linkin Park  \n",
       "1999998                      My Worlds                           Justin Bieber  \n",
       "1999999                        The Con                          Tegan And Sara  \n",
       "\n",
       "[2000000 rows x 6 columns]"
      ]
     },
     "execution_count": 14,
     "metadata": {},
     "output_type": "execute_result"
    }
   ],
   "source": [
    "data_main.drop_duplicates(['song_id'])\n",
    "data_main"
   ]
  },
  {
   "cell_type": "code",
   "execution_count": 15,
   "id": "3d1fd5e2",
   "metadata": {},
   "outputs": [
    {
     "data": {
      "text/plain": [
       "user_id         0\n",
       "song_id         0\n",
       "listen_count    0\n",
       "title           0\n",
       "release         0\n",
       "artist_name     0\n",
       "dtype: int64"
      ]
     },
     "execution_count": 15,
     "metadata": {},
     "output_type": "execute_result"
    }
   ],
   "source": [
    "data_main.isnull().sum()"
   ]
  },
  {
   "cell_type": "code",
   "execution_count": 16,
   "id": "7ff1387a",
   "metadata": {},
   "outputs": [
    {
     "data": {
      "text/html": [
       "<div>\n",
       "<style scoped>\n",
       "    .dataframe tbody tr th:only-of-type {\n",
       "        vertical-align: middle;\n",
       "    }\n",
       "\n",
       "    .dataframe tbody tr th {\n",
       "        vertical-align: top;\n",
       "    }\n",
       "\n",
       "    .dataframe thead th {\n",
       "        text-align: right;\n",
       "    }\n",
       "</style>\n",
       "<table border=\"1\" class=\"dataframe\">\n",
       "  <thead>\n",
       "    <tr style=\"text-align: right;\">\n",
       "      <th></th>\n",
       "      <th>user_id</th>\n",
       "      <th>song_id</th>\n",
       "      <th>listen_count</th>\n",
       "      <th>title</th>\n",
       "      <th>release</th>\n",
       "      <th>artist_name</th>\n",
       "      <th>song</th>\n",
       "    </tr>\n",
       "  </thead>\n",
       "  <tbody>\n",
       "    <tr>\n",
       "      <th>0</th>\n",
       "      <td>b80344d063b5ccb3212f76538f3d9e43d87dca9e</td>\n",
       "      <td>SOAKIMP12A8C130995</td>\n",
       "      <td>1</td>\n",
       "      <td>The Cove</td>\n",
       "      <td>Thicker Than Water</td>\n",
       "      <td>Jack Johnson</td>\n",
       "      <td>The Cove - Jack Johnson</td>\n",
       "    </tr>\n",
       "    <tr>\n",
       "      <th>1</th>\n",
       "      <td>b80344d063b5ccb3212f76538f3d9e43d87dca9e</td>\n",
       "      <td>SOBBMDR12A8C13253B</td>\n",
       "      <td>2</td>\n",
       "      <td>Entre Dos Aguas</td>\n",
       "      <td>Flamenco Para Niños</td>\n",
       "      <td>Paco De Lucia</td>\n",
       "      <td>Entre Dos Aguas - Paco De Lucia</td>\n",
       "    </tr>\n",
       "    <tr>\n",
       "      <th>2</th>\n",
       "      <td>b80344d063b5ccb3212f76538f3d9e43d87dca9e</td>\n",
       "      <td>SOBXHDL12A81C204C0</td>\n",
       "      <td>1</td>\n",
       "      <td>Stronger</td>\n",
       "      <td>Graduation</td>\n",
       "      <td>Kanye West</td>\n",
       "      <td>Stronger - Kanye West</td>\n",
       "    </tr>\n",
       "    <tr>\n",
       "      <th>3</th>\n",
       "      <td>b80344d063b5ccb3212f76538f3d9e43d87dca9e</td>\n",
       "      <td>SOBYHAJ12A6701BF1D</td>\n",
       "      <td>1</td>\n",
       "      <td>Constellations</td>\n",
       "      <td>In Between Dreams</td>\n",
       "      <td>Jack Johnson</td>\n",
       "      <td>Constellations - Jack Johnson</td>\n",
       "    </tr>\n",
       "    <tr>\n",
       "      <th>4</th>\n",
       "      <td>b80344d063b5ccb3212f76538f3d9e43d87dca9e</td>\n",
       "      <td>SODACBL12A8C13C273</td>\n",
       "      <td>1</td>\n",
       "      <td>Learn To Fly</td>\n",
       "      <td>There Is Nothing Left To Lose</td>\n",
       "      <td>Foo Fighters</td>\n",
       "      <td>Learn To Fly - Foo Fighters</td>\n",
       "    </tr>\n",
       "  </tbody>\n",
       "</table>\n",
       "</div>"
      ],
      "text/plain": [
       "                                    user_id             song_id  listen_count  \\\n",
       "0  b80344d063b5ccb3212f76538f3d9e43d87dca9e  SOAKIMP12A8C130995             1   \n",
       "1  b80344d063b5ccb3212f76538f3d9e43d87dca9e  SOBBMDR12A8C13253B             2   \n",
       "2  b80344d063b5ccb3212f76538f3d9e43d87dca9e  SOBXHDL12A81C204C0             1   \n",
       "3  b80344d063b5ccb3212f76538f3d9e43d87dca9e  SOBYHAJ12A6701BF1D             1   \n",
       "4  b80344d063b5ccb3212f76538f3d9e43d87dca9e  SODACBL12A8C13C273             1   \n",
       "\n",
       "             title                        release    artist_name  \\\n",
       "0         The Cove             Thicker Than Water   Jack Johnson   \n",
       "1  Entre Dos Aguas            Flamenco Para Niños  Paco De Lucia   \n",
       "2         Stronger                     Graduation     Kanye West   \n",
       "3   Constellations              In Between Dreams   Jack Johnson   \n",
       "4     Learn To Fly  There Is Nothing Left To Lose   Foo Fighters   \n",
       "\n",
       "                              song  \n",
       "0          The Cove - Jack Johnson  \n",
       "1  Entre Dos Aguas - Paco De Lucia  \n",
       "2            Stronger - Kanye West  \n",
       "3    Constellations - Jack Johnson  \n",
       "4      Learn To Fly - Foo Fighters  "
      ]
     },
     "execution_count": 16,
     "metadata": {},
     "output_type": "execute_result"
    }
   ],
   "source": [
    "data_main['song'] = data_main['title']+' - '+ data_main['artist_name']\n",
    "data_main.head()"
   ]
  },
  {
   "cell_type": "code",
   "execution_count": 17,
   "id": "c47b238b",
   "metadata": {},
   "outputs": [
    {
     "name": "stdout",
     "output_type": "stream",
     "text": [
      "There are 10000 unique songs in the data\n"
     ]
    }
   ],
   "source": [
    "unique_song = data_main['song_id'].unique().shape[0]\n",
    "print(f\"There are {unique_song} unique songs in the data\")"
   ]
  },
  {
   "cell_type": "code",
   "execution_count": 18,
   "id": "aab120d0",
   "metadata": {},
   "outputs": [
    {
     "name": "stdout",
     "output_type": "stream",
     "text": [
      "There are 76353 unique users in the data\n"
     ]
    }
   ],
   "source": [
    "unique_user = data_main['user_id'].unique().shape[0]\n",
    "print(f\"There are {unique_user} unique users in the data\")"
   ]
  },
  {
   "cell_type": "code",
   "execution_count": 19,
   "id": "5f1520d4",
   "metadata": {},
   "outputs": [
    {
     "name": "stdout",
     "output_type": "stream",
     "text": [
      "There are 3375 unique artists in the data\n"
     ]
    }
   ],
   "source": [
    "unique_artists = data_main['artist_name'].unique().shape[0]\n",
    "print(f\"There are {unique_artists} unique artists in the data\")"
   ]
  },
  {
   "cell_type": "code",
   "execution_count": 20,
   "id": "c7bcf6fa",
   "metadata": {},
   "outputs": [
    {
     "name": "stdout",
     "output_type": "stream",
     "text": [
      "                                                   song  listen_count\n",
      "0     #!*@ You Tonight [Featuring R. Kelly] (Explici...            78\n",
      "1                              #40 - DAVE MATTHEWS BAND           338\n",
      "2                                   & Down - Boys Noize           373\n",
      "3                             ' Cello Song - Nick Drake           103\n",
      "4                           '97 Bonnie & Clyde - Eminem            93\n",
      "...                                                 ...           ...\n",
      "9948                               the Love Song - K-OS            70\n",
      "9949                  you were there with me - Four Tet            79\n",
      "9950       ¡Viva La Gloria! (Album Version) - Green Day           171\n",
      "9951            ¿Lo Ves? [Piano Y Voz] - Alejandro Sanz            71\n",
      "9952                              Época - Gotan Project           182\n",
      "\n",
      "[9953 rows x 2 columns]\n"
     ]
    }
   ],
   "source": [
    "data_main_grouped = data_main.groupby(['song']).agg({'listen_count':'count'}).reset_index()\n",
    "print(data_main_grouped)"
   ]
  },
  {
   "cell_type": "code",
   "execution_count": 21,
   "id": "0c6bb9f8",
   "metadata": {},
   "outputs": [
    {
     "data": {
      "text/html": [
       "<div>\n",
       "<style scoped>\n",
       "    .dataframe tbody tr th:only-of-type {\n",
       "        vertical-align: middle;\n",
       "    }\n",
       "\n",
       "    .dataframe tbody tr th {\n",
       "        vertical-align: top;\n",
       "    }\n",
       "\n",
       "    .dataframe thead th {\n",
       "        text-align: right;\n",
       "    }\n",
       "</style>\n",
       "<table border=\"1\" class=\"dataframe\">\n",
       "  <thead>\n",
       "    <tr style=\"text-align: right;\">\n",
       "      <th></th>\n",
       "      <th>song</th>\n",
       "      <th>listen_count</th>\n",
       "    </tr>\n",
       "  </thead>\n",
       "  <tbody>\n",
       "    <tr>\n",
       "      <th>0</th>\n",
       "      <td>#!*@ You Tonight [Featuring R. Kelly] (Explici...</td>\n",
       "      <td>78</td>\n",
       "    </tr>\n",
       "    <tr>\n",
       "      <th>1</th>\n",
       "      <td>#40 - DAVE MATTHEWS BAND</td>\n",
       "      <td>338</td>\n",
       "    </tr>\n",
       "    <tr>\n",
       "      <th>2</th>\n",
       "      <td>&amp; Down - Boys Noize</td>\n",
       "      <td>373</td>\n",
       "    </tr>\n",
       "    <tr>\n",
       "      <th>3</th>\n",
       "      <td>' Cello Song - Nick Drake</td>\n",
       "      <td>103</td>\n",
       "    </tr>\n",
       "    <tr>\n",
       "      <th>4</th>\n",
       "      <td>'97 Bonnie &amp; Clyde - Eminem</td>\n",
       "      <td>93</td>\n",
       "    </tr>\n",
       "    <tr>\n",
       "      <th>...</th>\n",
       "      <td>...</td>\n",
       "      <td>...</td>\n",
       "    </tr>\n",
       "    <tr>\n",
       "      <th>9948</th>\n",
       "      <td>the Love Song - K-OS</td>\n",
       "      <td>70</td>\n",
       "    </tr>\n",
       "    <tr>\n",
       "      <th>9949</th>\n",
       "      <td>you were there with me - Four Tet</td>\n",
       "      <td>79</td>\n",
       "    </tr>\n",
       "    <tr>\n",
       "      <th>9950</th>\n",
       "      <td>¡Viva La Gloria! (Album Version) - Green Day</td>\n",
       "      <td>171</td>\n",
       "    </tr>\n",
       "    <tr>\n",
       "      <th>9951</th>\n",
       "      <td>¿Lo Ves? [Piano Y Voz] - Alejandro Sanz</td>\n",
       "      <td>71</td>\n",
       "    </tr>\n",
       "    <tr>\n",
       "      <th>9952</th>\n",
       "      <td>Época - Gotan Project</td>\n",
       "      <td>182</td>\n",
       "    </tr>\n",
       "  </tbody>\n",
       "</table>\n",
       "<p>9953 rows × 2 columns</p>\n",
       "</div>"
      ],
      "text/plain": [
       "                                                   song  listen_count\n",
       "0     #!*@ You Tonight [Featuring R. Kelly] (Explici...            78\n",
       "1                              #40 - DAVE MATTHEWS BAND           338\n",
       "2                                   & Down - Boys Noize           373\n",
       "3                             ' Cello Song - Nick Drake           103\n",
       "4                           '97 Bonnie & Clyde - Eminem            93\n",
       "...                                                 ...           ...\n",
       "9948                               the Love Song - K-OS            70\n",
       "9949                  you were there with me - Four Tet            79\n",
       "9950       ¡Viva La Gloria! (Album Version) - Green Day           171\n",
       "9951            ¿Lo Ves? [Piano Y Voz] - Alejandro Sanz            71\n",
       "9952                              Época - Gotan Project           182\n",
       "\n",
       "[9953 rows x 2 columns]"
      ]
     },
     "execution_count": 21,
     "metadata": {},
     "output_type": "execute_result"
    }
   ],
   "source": [
    "data_main_grouped = data_main_grouped.drop_duplicates(['song'])\n",
    "data_main_grouped"
   ]
  },
  {
   "cell_type": "code",
   "execution_count": 22,
   "id": "469d8128",
   "metadata": {},
   "outputs": [
    {
     "data": {
      "text/plain": [
       "2000000"
      ]
     },
     "execution_count": 22,
     "metadata": {},
     "output_type": "execute_result"
    }
   ],
   "source": [
    "grouped_sum = data_main_grouped['listen_count'].sum()\n",
    "grouped_sum"
   ]
  },
  {
   "cell_type": "code",
   "execution_count": 23,
   "id": "9319e07e",
   "metadata": {},
   "outputs": [
    {
     "data": {
      "text/html": [
       "<div>\n",
       "<style scoped>\n",
       "    .dataframe tbody tr th:only-of-type {\n",
       "        vertical-align: middle;\n",
       "    }\n",
       "\n",
       "    .dataframe tbody tr th {\n",
       "        vertical-align: top;\n",
       "    }\n",
       "\n",
       "    .dataframe thead th {\n",
       "        text-align: right;\n",
       "    }\n",
       "</style>\n",
       "<table border=\"1\" class=\"dataframe\">\n",
       "  <thead>\n",
       "    <tr style=\"text-align: right;\">\n",
       "      <th></th>\n",
       "      <th>song</th>\n",
       "      <th>listen_count</th>\n",
       "      <th>percentage</th>\n",
       "    </tr>\n",
       "  </thead>\n",
       "  <tbody>\n",
       "    <tr>\n",
       "      <th>7127</th>\n",
       "      <td>Sehr kosmisch - Harmonia</td>\n",
       "      <td>8277</td>\n",
       "      <td>0.41385</td>\n",
       "    </tr>\n",
       "    <tr>\n",
       "      <th>9084</th>\n",
       "      <td>Undo - Björk</td>\n",
       "      <td>7032</td>\n",
       "      <td>0.35160</td>\n",
       "    </tr>\n",
       "    <tr>\n",
       "      <th>2068</th>\n",
       "      <td>Dog Days Are Over (Radio Edit) - Florence + Th...</td>\n",
       "      <td>6949</td>\n",
       "      <td>0.34745</td>\n",
       "    </tr>\n",
       "    <tr>\n",
       "      <th>9880</th>\n",
       "      <td>You're The One - Dwight Yoakam</td>\n",
       "      <td>6412</td>\n",
       "      <td>0.32060</td>\n",
       "    </tr>\n",
       "    <tr>\n",
       "      <th>6774</th>\n",
       "      <td>Revelry - Kings Of Leon</td>\n",
       "      <td>6145</td>\n",
       "      <td>0.30725</td>\n",
       "    </tr>\n",
       "    <tr>\n",
       "      <th>...</th>\n",
       "      <td>...</td>\n",
       "      <td>...</td>\n",
       "      <td>...</td>\n",
       "    </tr>\n",
       "    <tr>\n",
       "      <th>3526</th>\n",
       "      <td>Historia Del Portero - Ricardo Arjona</td>\n",
       "      <td>51</td>\n",
       "      <td>0.00255</td>\n",
       "    </tr>\n",
       "    <tr>\n",
       "      <th>7071</th>\n",
       "      <td>Scared - Three Days Grace</td>\n",
       "      <td>51</td>\n",
       "      <td>0.00255</td>\n",
       "    </tr>\n",
       "    <tr>\n",
       "      <th>2147</th>\n",
       "      <td>Don´t Leave Me Now - Amparanoia</td>\n",
       "      <td>50</td>\n",
       "      <td>0.00250</td>\n",
       "    </tr>\n",
       "    <tr>\n",
       "      <th>2991</th>\n",
       "      <td>Ghosts (Toxic Avenger Mix) - Ladytron</td>\n",
       "      <td>48</td>\n",
       "      <td>0.00240</td>\n",
       "    </tr>\n",
       "    <tr>\n",
       "      <th>5811</th>\n",
       "      <td>No Creo En El Jamas - Juanes</td>\n",
       "      <td>48</td>\n",
       "      <td>0.00240</td>\n",
       "    </tr>\n",
       "  </tbody>\n",
       "</table>\n",
       "<p>9953 rows × 3 columns</p>\n",
       "</div>"
      ],
      "text/plain": [
       "                                                   song  listen_count  \\\n",
       "7127                           Sehr kosmisch - Harmonia          8277   \n",
       "9084                                       Undo - Björk          7032   \n",
       "2068  Dog Days Are Over (Radio Edit) - Florence + Th...          6949   \n",
       "9880                     You're The One - Dwight Yoakam          6412   \n",
       "6774                            Revelry - Kings Of Leon          6145   \n",
       "...                                                 ...           ...   \n",
       "3526              Historia Del Portero - Ricardo Arjona            51   \n",
       "7071                          Scared - Three Days Grace            51   \n",
       "2147                    Don´t Leave Me Now - Amparanoia            50   \n",
       "2991              Ghosts (Toxic Avenger Mix) - Ladytron            48   \n",
       "5811                       No Creo En El Jamas - Juanes            48   \n",
       "\n",
       "      percentage  \n",
       "7127     0.41385  \n",
       "9084     0.35160  \n",
       "2068     0.34745  \n",
       "9880     0.32060  \n",
       "6774     0.30725  \n",
       "...          ...  \n",
       "3526     0.00255  \n",
       "7071     0.00255  \n",
       "2147     0.00250  \n",
       "2991     0.00240  \n",
       "5811     0.00240  \n",
       "\n",
       "[9953 rows x 3 columns]"
      ]
     },
     "execution_count": 23,
     "metadata": {},
     "output_type": "execute_result"
    }
   ],
   "source": [
    "data_main_grouped['percentage'] = (data_main_grouped['listen_count'] / grouped_sum ) * 100\n",
    "df_songs = data_main_grouped.sort_values(['listen_count', 'song'], ascending=[0,1])\n",
    "df_songs"
   ]
  },
  {
   "cell_type": "code",
   "execution_count": 24,
   "id": "27459b24",
   "metadata": {},
   "outputs": [
    {
     "data": {
      "text/html": [
       "<div>\n",
       "<style scoped>\n",
       "    .dataframe tbody tr th:only-of-type {\n",
       "        vertical-align: middle;\n",
       "    }\n",
       "\n",
       "    .dataframe tbody tr th {\n",
       "        vertical-align: top;\n",
       "    }\n",
       "\n",
       "    .dataframe thead th {\n",
       "        text-align: right;\n",
       "    }\n",
       "</style>\n",
       "<table border=\"1\" class=\"dataframe\">\n",
       "  <thead>\n",
       "    <tr style=\"text-align: right;\">\n",
       "      <th></th>\n",
       "      <th>index</th>\n",
       "      <th>song</th>\n",
       "      <th>listen_count</th>\n",
       "      <th>percentage</th>\n",
       "    </tr>\n",
       "  </thead>\n",
       "  <tbody>\n",
       "    <tr>\n",
       "      <th>0</th>\n",
       "      <td>7127</td>\n",
       "      <td>Sehr kosmisch - Harmonia</td>\n",
       "      <td>8277</td>\n",
       "      <td>0.41385</td>\n",
       "    </tr>\n",
       "    <tr>\n",
       "      <th>1</th>\n",
       "      <td>9084</td>\n",
       "      <td>Undo - Björk</td>\n",
       "      <td>7032</td>\n",
       "      <td>0.35160</td>\n",
       "    </tr>\n",
       "    <tr>\n",
       "      <th>2</th>\n",
       "      <td>2068</td>\n",
       "      <td>Dog Days Are Over (Radio Edit) - Florence + Th...</td>\n",
       "      <td>6949</td>\n",
       "      <td>0.34745</td>\n",
       "    </tr>\n",
       "    <tr>\n",
       "      <th>3</th>\n",
       "      <td>9880</td>\n",
       "      <td>You're The One - Dwight Yoakam</td>\n",
       "      <td>6412</td>\n",
       "      <td>0.32060</td>\n",
       "    </tr>\n",
       "    <tr>\n",
       "      <th>4</th>\n",
       "      <td>6774</td>\n",
       "      <td>Revelry - Kings Of Leon</td>\n",
       "      <td>6145</td>\n",
       "      <td>0.30725</td>\n",
       "    </tr>\n",
       "    <tr>\n",
       "      <th>5</th>\n",
       "      <td>7115</td>\n",
       "      <td>Secrets - OneRepublic</td>\n",
       "      <td>5841</td>\n",
       "      <td>0.29205</td>\n",
       "    </tr>\n",
       "    <tr>\n",
       "      <th>6</th>\n",
       "      <td>3613</td>\n",
       "      <td>Horn Concerto No. 4 in E flat K495: II. Romanc...</td>\n",
       "      <td>5385</td>\n",
       "      <td>0.26925</td>\n",
       "    </tr>\n",
       "    <tr>\n",
       "      <th>7</th>\n",
       "      <td>2717</td>\n",
       "      <td>Fireflies - Charttraxx Karaoke</td>\n",
       "      <td>4795</td>\n",
       "      <td>0.23975</td>\n",
       "    </tr>\n",
       "    <tr>\n",
       "      <th>8</th>\n",
       "      <td>3485</td>\n",
       "      <td>Hey_ Soul Sister - Train</td>\n",
       "      <td>4758</td>\n",
       "      <td>0.23790</td>\n",
       "    </tr>\n",
       "    <tr>\n",
       "      <th>9</th>\n",
       "      <td>8848</td>\n",
       "      <td>Tive Sim - Cartola</td>\n",
       "      <td>4548</td>\n",
       "      <td>0.22740</td>\n",
       "    </tr>\n",
       "  </tbody>\n",
       "</table>\n",
       "</div>"
      ],
      "text/plain": [
       "   index                                               song  listen_count  \\\n",
       "0   7127                           Sehr kosmisch - Harmonia          8277   \n",
       "1   9084                                       Undo - Björk          7032   \n",
       "2   2068  Dog Days Are Over (Radio Edit) - Florence + Th...          6949   \n",
       "3   9880                     You're The One - Dwight Yoakam          6412   \n",
       "4   6774                            Revelry - Kings Of Leon          6145   \n",
       "5   7115                              Secrets - OneRepublic          5841   \n",
       "6   3613  Horn Concerto No. 4 in E flat K495: II. Romanc...          5385   \n",
       "7   2717                     Fireflies - Charttraxx Karaoke          4795   \n",
       "8   3485                           Hey_ Soul Sister - Train          4758   \n",
       "9   8848                                 Tive Sim - Cartola          4548   \n",
       "\n",
       "   percentage  \n",
       "0     0.41385  \n",
       "1     0.35160  \n",
       "2     0.34745  \n",
       "3     0.32060  \n",
       "4     0.30725  \n",
       "5     0.29205  \n",
       "6     0.26925  \n",
       "7     0.23975  \n",
       "8     0.23790  \n",
       "9     0.22740  "
      ]
     },
     "execution_count": 24,
     "metadata": {},
     "output_type": "execute_result"
    }
   ],
   "source": [
    "#getting the top ten songs\n",
    "ten_pop_songs = df_songs[:10]\n",
    "ten_pop_songs.reset_index()"
   ]
  },
  {
   "cell_type": "code",
   "execution_count": 25,
   "id": "e80f13c3",
   "metadata": {},
   "outputs": [],
   "source": [
    "labels = ten_pop_songs['song'].tolist()\n",
    "counts = ten_pop_songs['listen_count'].tolist()"
   ]
  },
  {
   "cell_type": "code",
   "execution_count": 26,
   "id": "ac4cc8f7",
   "metadata": {},
   "outputs": [
    {
     "data": {
      "image/png": "[encoded data removed]",
      "text/plain": [
       "<Figure size 432x288 with 1 Axes>"
      ]
     },
     "metadata": {
      "needs_background": "light"
     },
     "output_type": "display_data"
    }
   ],
   "source": [
    "plt.figure()\n",
    "sns.barplot(x=counts, y=labels, palette='Set3')\n",
    "sns.despine(left=True, bottom=True)"
   ]
  },
  {
   "cell_type": "code",
   "execution_count": 27,
   "id": "d07b042b",
   "metadata": {},
   "outputs": [],
   "source": [
    "#count how many rows we have by artist name, we show only the ten more popular artist \n",
    "ten_pop_artists  = data_main.groupby(['artist_name'])['listen_count'].count().reset_index().sort_values(['listen_count', 'artist_name'], \n",
    "                                                                                                ascending = [0,1])"
   ]
  },
  {
   "cell_type": "code",
   "execution_count": 28,
   "id": "cead1819",
   "metadata": {},
   "outputs": [
    {
     "data": {
      "text/html": [
       "<div>\n",
       "<style scoped>\n",
       "    .dataframe tbody tr th:only-of-type {\n",
       "        vertical-align: middle;\n",
       "    }\n",
       "\n",
       "    .dataframe tbody tr th {\n",
       "        vertical-align: top;\n",
       "    }\n",
       "\n",
       "    .dataframe thead th {\n",
       "        text-align: right;\n",
       "    }\n",
       "</style>\n",
       "<table border=\"1\" class=\"dataframe\">\n",
       "  <thead>\n",
       "    <tr style=\"text-align: right;\">\n",
       "      <th></th>\n",
       "      <th>index</th>\n",
       "      <th>artist_name</th>\n",
       "      <th>listen_count</th>\n",
       "    </tr>\n",
       "  </thead>\n",
       "  <tbody>\n",
       "    <tr>\n",
       "      <th>0</th>\n",
       "      <td>649</td>\n",
       "      <td>Coldplay</td>\n",
       "      <td>29422</td>\n",
       "    </tr>\n",
       "    <tr>\n",
       "      <th>1</th>\n",
       "      <td>2850</td>\n",
       "      <td>The Black Keys</td>\n",
       "      <td>19862</td>\n",
       "    </tr>\n",
       "    <tr>\n",
       "      <th>2</th>\n",
       "      <td>1651</td>\n",
       "      <td>Kings Of Leon</td>\n",
       "      <td>18747</td>\n",
       "    </tr>\n",
       "    <tr>\n",
       "      <th>3</th>\n",
       "      <td>1107</td>\n",
       "      <td>Florence + The Machine</td>\n",
       "      <td>18112</td>\n",
       "    </tr>\n",
       "    <tr>\n",
       "      <th>4</th>\n",
       "      <td>1370</td>\n",
       "      <td>Jack Johnson</td>\n",
       "      <td>17801</td>\n",
       "    </tr>\n",
       "    <tr>\n",
       "      <th>5</th>\n",
       "      <td>2946</td>\n",
       "      <td>The Killers</td>\n",
       "      <td>16063</td>\n",
       "    </tr>\n",
       "    <tr>\n",
       "      <th>6</th>\n",
       "      <td>2374</td>\n",
       "      <td>Radiohead</td>\n",
       "      <td>14890</td>\n",
       "    </tr>\n",
       "    <tr>\n",
       "      <th>7</th>\n",
       "      <td>736</td>\n",
       "      <td>Daft Punk</td>\n",
       "      <td>14715</td>\n",
       "    </tr>\n",
       "    <tr>\n",
       "      <th>8</th>\n",
       "      <td>2073</td>\n",
       "      <td>Muse</td>\n",
       "      <td>14005</td>\n",
       "    </tr>\n",
       "    <tr>\n",
       "      <th>9</th>\n",
       "      <td>1554</td>\n",
       "      <td>Justin Bieber</td>\n",
       "      <td>13959</td>\n",
       "    </tr>\n",
       "  </tbody>\n",
       "</table>\n",
       "</div>"
      ],
      "text/plain": [
       "   index             artist_name  listen_count\n",
       "0    649                Coldplay         29422\n",
       "1   2850          The Black Keys         19862\n",
       "2   1651           Kings Of Leon         18747\n",
       "3   1107  Florence + The Machine         18112\n",
       "4   1370            Jack Johnson         17801\n",
       "5   2946             The Killers         16063\n",
       "6   2374               Radiohead         14890\n",
       "7    736               Daft Punk         14715\n",
       "8   2073                    Muse         14005\n",
       "9   1554           Justin Bieber         13959"
      ]
     },
     "execution_count": 28,
     "metadata": {},
     "output_type": "execute_result"
    }
   ],
   "source": [
    "ten_pop_artists = ten_pop_artists[:10]\n",
    "ten_pop_artists.reset_index()"
   ]
  },
  {
   "cell_type": "code",
   "execution_count": 29,
   "id": "63b53de2",
   "metadata": {},
   "outputs": [
    {
     "data": {
      "image/png": "[encoded data removed]",
      "text/plain": [
       "<Figure size 432x288 with 1 Axes>"
      ]
     },
     "metadata": {
      "needs_background": "light"
     },
     "output_type": "display_data"
    }
   ],
   "source": [
    "plt.figure()\n",
    "labels = ten_pop_artists['artist_name'].tolist()\n",
    "counts = ten_pop_artists['listen_count'].tolist()\n",
    "sns.barplot(x=counts, y=labels, palette='Set2')\n",
    "sns.despine(left=True, bottom=True)"
   ]
  },
  {
   "cell_type": "code",
   "execution_count": 30,
   "id": "1afb6716",
   "metadata": {},
   "outputs": [
    {
     "name": "stdout",
     "output_type": "stream",
     "text": [
      "The maximum times the same user listened to the same songs was: 2213\n"
     ]
    }
   ],
   "source": [
    "#What was the maximum time the same user listen to a same song?\n",
    "listen_counts = pd.DataFrame(data_main.groupby('listen_count').size(), columns=['count'])\n",
    "print(f\"The maximum times the same user listened to the same songs was: {listen_counts.reset_index(drop=False)['listen_count'].iloc[-1]}\")"
   ]
  },
  {
   "cell_type": "code",
   "execution_count": 31,
   "id": "d4b571c2",
   "metadata": {},
   "outputs": [
    {
     "name": "stdout",
     "output_type": "stream",
     "text": [
      "On average, a user listen to the same song 3.0454845 times\n"
     ]
    }
   ],
   "source": [
    "#How many times on average the same user listen to a same song?\n",
    "print(f\"On average, a user listen to the same song {data_main['listen_count'].mean()} times\")\n"
   ]
  },
  {
   "cell_type": "code",
   "execution_count": 32,
   "id": "7251e3bb",
   "metadata": {},
   "outputs": [
    {
     "data": {
      "image/png": "[encoded data removed]",
      "text/plain": [
       "<Figure size 1440x504 with 1 Axes>"
      ]
     },
     "metadata": {
      "needs_background": "light"
     },
     "output_type": "display_data"
    }
   ],
   "source": [
    "#We can also check the distribution of listen_count -> (the max times the user listens to a song):\n",
    "\n",
    "plt.figure(figsize=(20, 7))\n",
    "sns.boxplot(x='listen_count', data=df_songs)\n",
    "sns.despine()"
   ]
  },
  {
   "cell_type": "code",
   "execution_count": 33,
   "id": "6d8837c4",
   "metadata": {},
   "outputs": [
    {
     "data": {
      "image/png": "[encoded data removed]",
      "text/plain": [
       "<Figure size 1152x576 with 1 Axes>"
      ]
     },
     "metadata": {
      "needs_background": "light"
     },
     "output_type": "display_data"
    }
   ],
   "source": [
    "#What are the most frequent number of times a user listen to the same song?\n",
    "listen_counts_temp = listen_counts[listen_counts['count'] > 50].reset_index(drop=False)\n",
    "\n",
    "\n",
    "plt.figure(figsize=(16, 8))\n",
    "sns.barplot(x='listen_count', y='count', palette='Set3', data=listen_counts_temp)\n",
    "plt.gca().spines['top'].set_visible(False)\n",
    "plt.gca().spines['right'].set_visible(False)\n",
    "sns.despine() \n",
    "plt.show();"
   ]
  },
  {
   "cell_type": "code",
   "execution_count": 34,
   "id": "5b8915f5",
   "metadata": {},
   "outputs": [
    {
     "data": {
      "image/png": "[encoded data removed]",
      "text/plain": [
       "<Figure size 1152x576 with 1 Axes>"
      ]
     },
     "metadata": {
      "needs_background": "light"
     },
     "output_type": "display_data"
    }
   ],
   "source": [
    "#How many songs does a user listen in average?\n",
    "song_user = data_main.groupby('user_id')['song_id'].count()\n",
    "\n",
    "\n",
    "plt.figure(figsize=(16, 8))\n",
    "sns.distplot(song_user.values, color='blue')\n",
    "sns.despine()\n",
    "plt.show();"
   ]
  },
  {
   "cell_type": "code",
   "execution_count": 35,
   "id": "a8f9cab5",
   "metadata": {},
   "outputs": [
    {
     "name": "stdout",
     "output_type": "stream",
     "text": [
      "A user listens to an average of 26.194124657839247 songs\n"
     ]
    }
   ],
   "source": [
    "print(f\"A user listens to an average of {np.mean(song_user)} songs\")"
   ]
  },
  {
   "cell_type": "code",
   "execution_count": 36,
   "id": "f39a0514",
   "metadata": {},
   "outputs": [
    {
     "name": "stdout",
     "output_type": "stream",
     "text": [
      "A user listens to an average of 16.0 songs, with minimum 1 and maximum 711 songs\n"
     ]
    }
   ],
   "source": [
    "print(f\"A user listens to an average of {np.median(song_user)} songs, with minimum {np.min(song_user)} and maximum {np.max(song_user)} songs\")"
   ]
  },
  {
   "cell_type": "code",
   "execution_count": 37,
   "id": "8d8a18f9",
   "metadata": {},
   "outputs": [],
   "source": [
    "#So, not all user listen to all songs, so a lot of values in the song x users matrix are going to be zero. \n",
    "#Thus, we’ll be dealing with extremely sparse data.\n",
    "#One alternative visualization for sparse data is a heatmap."
   ]
  },
  {
   "cell_type": "code",
   "execution_count": 38,
   "id": "8fc07faa",
   "metadata": {},
   "outputs": [
    {
     "name": "stdout",
     "output_type": "stream",
     "text": [
      "The matrix of users x songs has 763520047 values that are zero\n"
     ]
    }
   ],
   "source": [
    "# Get how many values should it be if all songs have been listen by all users\n",
    "values_matrix = unique_user * unique_song\n",
    "\n",
    "\n",
    "# Substract the total values with the actural shape of the DataFrame songs\n",
    "zero_values_matrix = values_matrix - df_songs.shape[0]\n",
    "\n",
    "print(f\"The matrix of users x songs has {zero_values_matrix} values that are zero\")\n"
   ]
  },
  {
   "cell_type": "code",
   "execution_count": 39,
   "id": "fef75ee8",
   "metadata": {},
   "outputs": [],
   "source": [
    "#To make our process easier, let's just select all those users that have listened to at least 16 songs.\n",
    "\n",
    "# Get users which have listen to at least 16 songs\n",
    "song_ten_id = song_user[song_user > 16].index.to_list()"
   ]
  },
  {
   "cell_type": "code",
   "execution_count": 40,
   "id": "3745b538",
   "metadata": {},
   "outputs": [],
   "source": [
    "# Filtered the dataset to keep only those users with more than 16 listened\n",
    "df_song_id_more_ten = data_main[data_main['user_id'].isin(song_ten_id)].reset_index(drop=True)"
   ]
  },
  {
   "cell_type": "code",
   "execution_count": null,
   "id": "e4827e6c",
   "metadata": {},
   "outputs": [],
   "source": [
    "#We need now to work with a scipy-sparse matrix to avoid overflow and wasted memory\n",
    "# therefore we'll use the csr_matrix function from scipy.sparse.\n",
    "\n",
    "from scipy.sparse import csr_matrix\n"
   ]
  },
  {
   "cell_type": "code",
   "execution_count": null,
   "id": "650b1235",
   "metadata": {},
   "outputs": [],
   "source": [
    "# convert the dataframe into a pivot table\n",
    "df_songs_features = df_song_id_more_ten.pivot(index='song_id', columns='user_id', values='listen_count').fillna(0)\n",
    "\n",
    "# obtain a sparse matrix\n",
    "mat_songs_features = csr_matrix(df_songs_features.values)"
   ]
  },
  {
   "cell_type": "code",
   "execution_count": null,
   "id": "a8129f7a",
   "metadata": {},
   "outputs": [],
   "source": []
  },
  {
   "cell_type": "code",
   "execution_count": null,
   "id": "f48d9d1a",
   "metadata": {},
   "outputs": [],
   "source": []
  }
 ],
 "metadata": {
  "kernelspec": {
   "display_name": "Python 3",
   "language": "python",
   "name": "python3"
  },
  "language_info": {
   "codemirror_mode": {
    "name": "ipython",
    "version": 3
   },
   "file_extension": ".py",
   "mimetype": "text/x-python",
   "name": "python",
   "nbconvert_exporter": "python",
   "pygments_lexer": "ipython3",
   "version": "3.8.8"
  }
 },
 "nbformat": 4,
 "nbformat_minor": 5
}
